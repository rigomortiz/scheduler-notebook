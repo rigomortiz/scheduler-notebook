{
 "cells": [
  {
   "cell_type": "code",
   "execution_count": 1,
   "metadata": {
    "execution": {
     "iopub.execute_input": "2022-11-07T14:57:23.887693Z",
     "iopub.status.busy": "2022-11-07T14:57:23.887059Z",
     "iopub.status.idle": "2022-11-07T14:57:23.908884Z",
     "shell.execute_reply": "2022-11-07T14:57:23.906166Z"
    }
   },
   "outputs": [
    {
     "name": "stdout",
     "output_type": "stream",
     "text": [
      "2018-01-01\n"
     ]
    }
   ],
   "source": [
    "THRESHOLD_DATE = %env @THRESHOLD_DATE@\n",
    "print(THRESHOLD_DATE)"
   ]
  },
  {
   "cell_type": "code",
   "execution_count": 2,
   "metadata": {
    "execution": {
     "iopub.execute_input": "2022-11-07T14:57:23.928738Z",
     "iopub.status.busy": "2022-11-07T14:57:23.927958Z",
     "iopub.status.idle": "2022-11-07T14:57:23.938535Z",
     "shell.execute_reply": "2022-11-07T14:57:23.936871Z"
    }
   },
   "outputs": [
    {
     "name": "stdout",
     "output_type": "stream",
     "text": [
      "['2018-01-31', '2018-02-28', '2018-03-28']\n"
     ]
    }
   ],
   "source": [
    "CUTOFF_DATES = %env @CUTOFF_DATES@\n",
    "CUTOFF_DATES = CUTOFF_DATES.split(',')\n",
    "print(CUTOFF_DATES)"
   ]
  },
  {
   "cell_type": "code",
   "execution_count": 3,
   "metadata": {
    "execution": {
     "iopub.execute_input": "2022-11-07T14:57:24.054443Z",
     "iopub.status.busy": "2022-11-07T14:57:24.053953Z",
     "iopub.status.idle": "2022-11-07T14:57:24.065808Z",
     "shell.execute_reply": "2022-11-07T14:57:24.063804Z"
    }
   },
   "outputs": [
    {
     "name": "stdout",
     "output_type": "stream",
     "text": [
      "env: @CUTOFF_DATES_LEN@=3\n",
      "3\n"
     ]
    }
   ],
   "source": [
    "CUTOFF_DATES_LEN = len(CUTOFF_DATES)\n",
    "%env @CUTOFF_DATES_LEN@ = $CUTOFF_DATES_LEN\n",
    "print(CUTOFF_DATES_LEN)"
   ]
  },
  {
   "cell_type": "code",
   "execution_count": 4,
   "id": "a355081e",
   "metadata": {
    "execution": {
     "iopub.execute_input": "2022-11-07T14:57:24.092648Z",
     "iopub.status.busy": "2022-11-07T14:57:24.091835Z",
     "iopub.status.idle": "2022-11-07T14:57:24.113742Z",
     "shell.execute_reply": "2022-11-07T14:57:24.111718Z"
    }
   },
   "outputs": [],
   "source": [
    "\n",
    "import os\n",
    "import csv\n",
    "\n",
    "with open('output/data_2022-11-07_08-57-17.csv', 'w') as csvfile:\n",
    "    csvwriter = csv.writer(csvfile)\n",
    "    csvwriter.writerow(['VARIABLE', 'VALUE'])\n",
    "    csvwriter.writerows([[x.replace('@', ''), os.environ[x]] for x in list(os.environ.copy().keys()) if x[0] == '@' and x[-1] == '@'])\n",
    "            "
   ]
  }
 ],
 "metadata": {
  "kernelspec": {
   "display_name": "Python 3 (ipykernel)",
   "language": "python",
   "name": "python3"
  },
  "language_info": {
   "codemirror_mode": {
    "name": "ipython",
    "version": 3
   },
   "file_extension": ".py",
   "mimetype": "text/x-python",
   "name": "python",
   "nbconvert_exporter": "python",
   "pygments_lexer": "ipython3",
   "version": "3.9.2"
  }
 },
 "nbformat": 4,
 "nbformat_minor": 1
}
