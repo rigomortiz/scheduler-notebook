{
 "cells": [
  {
   "cell_type": "code",
   "execution_count": null,
   "metadata": {},
   "outputs": [],
   "source": [
    "%%write_test\n",
    "import pytest\n",
    "\n",
    "def test_rule_1():\n",
    "    assert 21 == {CUTOFF_DATES_LEN}\n",
    "\n",
    "def test_rule_2():\n",
    "    assert 22 == {CUTOFF_DATES_LEN}\n",
    "    \n",
    "def test_rule_3():\n",
    "    assert 23 == {CUTOFF_DATES_LEN}\n",
    "\n",
    "def test_rule_4():\n",
    "    assert 24 == {CUTOFF_DATES_LEN}\n",
    "\n",
    "def test_rule_5():\n",
    "    assert 25 == {CUTOFF_DATES_LEN}"
   ]
  },
  {
   "cell_type": "code",
   "execution_count": null,
   "metadata": {},
   "outputs": [],
   "source": [
    "%%write_test\n",
    "\n",
    "def inc(x):\n",
    "    return x + 1\n",
    "\n",
    "def test_answer():\n",
    "    assert inc(3) == 4\n",
    "\n",
    "def test_spark_session_dataframe(spark_session):\n",
    "    test_df = spark_session.createDataFrame([[1,3],[2,4],[1,2],[1,0]], \"a: int, b: int\")\n",
    "    test_df.show()\n",
    "    assert test_df.count() == 3"
   ]
  }
 ],
 "metadata": {
  "kernelspec": {
   "display_name": "Python 3 (ipykernel)",
   "language": "python",
   "name": "python3"
  },
  "language_info": {
   "codemirror_mode": {
    "name": "ipython",
    "version": 3
   },
   "file_extension": ".py",
   "mimetype": "text/x-python",
   "name": "python",
   "nbconvert_exporter": "python",
   "pygments_lexer": "ipython3",
   "version": "3.9.2"
  }
 },
 "nbformat": 4,
 "nbformat_minor": 1
}
