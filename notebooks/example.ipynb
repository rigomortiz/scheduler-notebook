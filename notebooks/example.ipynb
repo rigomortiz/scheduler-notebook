{
 "cells": [
  {
   "cell_type": "code",
   "execution_count": null,
   "metadata": {},
   "outputs": [],
   "source": [
    "THRESHOLD_DATE = %env @THRESHOLD_DATE@\n",
    "print(THRESHOLD_DATE)"
   ]
  },
  {
   "cell_type": "code",
   "execution_count": null,
   "metadata": {},
   "outputs": [],
   "source": [
    "CUTOFF_DATES = %env @CUTOFF_DATES@\n",
    "CUTOFF_DATES = CUTOFF_DATES.split(',')\n",
    "print(CUTOFF_DATES)"
   ]
  },
  {
   "cell_type": "code",
   "execution_count": null,
   "metadata": {},
   "outputs": [],
   "source": [
    "CUTOFF_DATES_LEN = len(CUTOFF_DATES)\n",
    "%env @CUTOFF_DATES_LEN@ = $CUTOFF_DATES_LEN\n",
    "print(CUTOFF_DATES_LEN)"
   ]
  }
 ],
 "metadata": {
  "kernelspec": {
   "display_name": "Python 3 (ipykernel)",
   "language": "python",
   "name": "python3"
  },
  "language_info": {
   "codemirror_mode": {
    "name": "ipython",
    "version": 3
   },
   "file_extension": ".py",
   "mimetype": "text/x-python",
   "name": "python",
   "nbconvert_exporter": "python",
   "pygments_lexer": "ipython3",
   "version": "3.9.2"
  }
 },
 "nbformat": 4,
 "nbformat_minor": 1
}
