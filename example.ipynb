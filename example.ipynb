{
 "cells": [
  {
   "cell_type": "code",
   "execution_count": 1,
   "metadata": {},
   "outputs": [
    {
     "data": {
      "text/plain": [
       "Intitializing Scala interpreter ..."
      ]
     },
     "metadata": {},
     "output_type": "display_data"
    },
    {
     "data": {
      "text/plain": [
       "Spark Web UI available at http://172.23.96.1:4040\n",
       "SparkContext available as 'sc' (version = 3.3.0, master = local[*], app id = local-1666419392236)\n",
       "SparkSession available as 'spark'\n"
      ]
     },
     "metadata": {},
     "output_type": "display_data"
    },
    {
     "ename": "<console>",
     "evalue": "23: error: not found: value %",
     "output_type": "error",
     "traceback": [
      "<console>:23: error: not found: value %",
      "       val THRESHOLD_DATE = %env THRESHOLD_DATE",
      "                            ^",
      ""
     ]
    }
   ],
   "source": [
    "val THRESHOLD_DATE = %env THRESHOLD_DATE\n",
    "print(THRESHOLD_DATE)"
   ]
  },
  {
   "cell_type": "code",
   "execution_count": null,
   "metadata": {},
   "outputs": [],
   "source": [
    "val CUTOFF_DATES = %env CUTOFF_DATES\n",
    "print(CUTOFF_DATES)"
   ]
  }
 ],
 "metadata": {
  "kernelspec": {
   "display_name": "spylon-kernel",
   "language": "scala",
   "name": "spylon-kernel"
  },
  "language_info": {
   "codemirror_mode": "text/x-scala",
   "file_extension": ".scala",
   "help_links": [
    {
     "text": "MetaKernel Magics",
     "url": "https://metakernel.readthedocs.io/en/latest/source/README.html"
    }
   ],
   "mimetype": "text/x-scala",
   "name": "scala",
   "pygments_lexer": "scala",
   "version": "0.4.1"
  }
 },
 "nbformat": 4,
 "nbformat_minor": 1
}
