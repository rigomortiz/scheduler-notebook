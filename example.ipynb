{
 "cells": [
  {
   "cell_type": "code",
   "execution_count": 1,
   "metadata": {},
   "outputs": [
    {
     "data": {
      "text/plain": [
       "Intitializing Scala interpreter ..."
      ]
     },
     "metadata": {},
     "output_type": "display_data"
    },
    {
     "data": {
      "text/plain": [
       "Spark Web UI available at http://172.23.96.1:4040\n",
       "SparkContext available as 'sc' (version = 3.3.0, master = local[*], app id = local-1666419392236)\n",
       "SparkSession available as 'spark'\n"
      ]
     },
     "metadata": {},
     "output_type": "display_data"
    },
    {
     "ename": "<console>",
     "evalue": "23: error: not found: value %",
     "output_type": "error",
     "traceback": [
      "<console>:23: error: not found: value %",
      "       val THRESHOLD_DATE = %env THRESHOLD_DATE",
      "                            ^",
      ""
     ]
    }
   ],
   "source": [
    "THRESHOLD_DATE = %env THRESHOLD_DATE\n",
    "print(THRESHOLD_DATE)"
   ]
  },
  {
   "cell_type": "code",
   "execution_count": null,
   "metadata": {},
   "outputs": [],
   "source": [
    "CUTOFF_DATES = %env CUTOFF_DATES\n",
    "print(CUTOFF_DATES)"
   ]
  }
 ],
 "metadata": {
  "kernelspec": {
   "display_name": "Python 3 (ipykernel)",
   "language": "python",
   "name": "python3"
  },
  "language_info": {
   "codemirror_mode": {
    "name": "ipython",
    "version": 3
   },
   "file_extension": ".py",
   "mimetype": "text/x-python",
   "name": "python",
   "nbconvert_exporter": "python",
   "pygments_lexer": "ipython3",
   "version": "3.9.2"
  }
 },
 "nbformat": 4,
 "nbformat_minor": 1
}
